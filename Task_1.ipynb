{
  "nbformat": 4,
  "nbformat_minor": 0,
  "metadata": {
    "colab": {
      "name": "Task_1.ipynb",
      "provenance": [],
      "authorship_tag": "ABX9TyNV9uC9lGS7q19GfrY52SHW",
      "include_colab_link": true
    },
    "kernelspec": {
      "name": "python3",
      "display_name": "Python 3"
    },
    "language_info": {
      "name": "python"
    }
  },
  "cells": [
    {
      "cell_type": "markdown",
      "metadata": {
        "id": "view-in-github",
        "colab_type": "text"
      },
      "source": [
        "<a href=\"https://colab.research.google.com/github/KormazovaVer/task3/blob/main/Task_1.ipynb\" target=\"_parent\"><img src=\"https://colab.research.google.com/assets/colab-badge.svg\" alt=\"Open In Colab\"/></a>"
      ]
    },
    {
      "cell_type": "code",
      "execution_count": 1,
      "metadata": {
        "colab": {
          "base_uri": "https://localhost:8080/"
        },
        "id": "opa1jB8WwunU",
        "outputId": "6b0d4431-5406-4105-8701-ec6a69b373ad"
      },
      "outputs": [
        {
          "output_type": "stream",
          "name": "stdout",
          "text": [
            "Самый интеллектуальный Thanos, интеллект: 100\n"
          ]
        }
      ],
      "source": [
        "\n",
        "import requests\n",
        "\n",
        "token = '2619421814940190'\n",
        "\n",
        "urls = [\n",
        "          f\"https://superheroapi.com/api/{token}/search/Hulk\",\n",
        "          f\"https://superheroapi.com/api/{token}/search/Thanos\",\n",
        "          f\"https://superheroapi.com/api/{token}/search//Captain_America\"\n",
        "]               \n",
        "\n",
        "def requests_get(url_all):\n",
        "  response = (requests.get(url) for url in url_all)\n",
        "  return response\n",
        "\n",
        "def get_a_superhero():\n",
        "  super_hero =[]\n",
        "  for item in requests_get(urls):\n",
        "    intelligence = item.json()\n",
        "    try:\n",
        "      for power_stats in intelligence['results']:\n",
        "        super_hero.append({\n",
        "            'name' : power_stats['name'],\n",
        "            'intelligence' : power_stats['powerstats']['intelligence'],\n",
        "        })\n",
        "    except KeyError:\n",
        "      print(f\"Проверьте ссылки urls: {urls}\")\n",
        "\n",
        "  intelligence_super_hero = 0\n",
        "  name = ' '\n",
        "  for intelligence_hero in super_hero:\n",
        "    if intelligence_super_hero < int(intelligence_hero['intelligence']):\n",
        "      intelligence_super_hero = int(intelligence_hero['intelligence'])\n",
        "      name = intelligence_hero['name']\n",
        "\n",
        "  print(f'Самый интеллектуальный {name}, интеллект: {intelligence_super_hero}')  \n",
        "\n",
        "get_a_superhero()\n",
        "\n"
      ]
    }
  ]
}