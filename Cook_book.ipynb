{
  "nbformat": 4,
  "nbformat_minor": 0,
  "metadata": {
    "colab": {
      "name": "Cook_book.ipynb",
      "provenance": [],
      "authorship_tag": "ABX9TyPGvsCXvGgm0urOLpwhS6DO",
      "include_colab_link": true
    },
    "kernelspec": {
      "name": "python3",
      "display_name": "Python 3"
    },
    "language_info": {
      "name": "python"
    }
  },
  "cells": [
    {
      "cell_type": "markdown",
      "metadata": {
        "id": "view-in-github",
        "colab_type": "text"
      },
      "source": [
        "<a href=\"https://colab.research.google.com/github/KormazovaVer/task3/blob/main/Cook_book.ipynb\" target=\"_parent\"><img src=\"https://colab.research.google.com/assets/colab-badge.svg\" alt=\"Open In Colab\"/></a>"
      ]
    },
    {
      "cell_type": "code",
      "execution_count": 7,
      "metadata": {
        "colab": {
          "base_uri": "https://localhost:8080/"
        },
        "id": "jspeKUuqsn9F",
        "outputId": "9b0a2412-149f-48c7-efc5-a6d226e8e22b"
      },
      "outputs": [
        {
          "output_type": "stream",
          "name": "stdout",
          "text": [
            "Наше меню: \n",
            "{'Запеченный картофель': [{'ingredient_name': 'Картофель',\n",
            "                           'measure': 'кг',\n",
            "                           'quantity': '1'},\n",
            "                          {'ingredient_name': 'Чеснок',\n",
            "                           'measure': 'зубч',\n",
            "                           'quantity': '3'},\n",
            "                          {'ingredient_name': 'Сыр гауда',\n",
            "                           'measure': 'г',\n",
            "                           'quantity': '100'}],\n",
            " 'Омлет': [{'ingredient_name': 'Яйцо', 'measure': 'шт', 'quantity': '2'},\n",
            "           {'ingredient_name': 'Молоко', 'measure': 'мл', 'quantity': '100'},\n",
            "           {'ingredient_name': 'Помидор', 'measure': 'шт', 'quantity': '2'}],\n",
            " 'Утка по-пекински': [{'ingredient_name': 'Утка',\n",
            "                       'measure': 'шт',\n",
            "                       'quantity': '1'},\n",
            "                      {'ingredient_name': 'Вода',\n",
            "                       'measure': 'л',\n",
            "                       'quantity': '2'},\n",
            "                      {'ingredient_name': 'Мед',\n",
            "                       'measure': 'ст.л',\n",
            "                       'quantity': '3'},\n",
            "                      {'ingredient_name': 'Соевый соус',\n",
            "                       'measure': 'мл',\n",
            "                       'quantity': '60'}],\n",
            " 'Фахитос': [{'ingredient_name': 'Говядина', 'measure': 'г', 'quantity': '500'},\n",
            "             {'ingredient_name': 'Перец сладкий',\n",
            "              'measure': 'шт',\n",
            "              'quantity': '1'},\n",
            "             {'ingredient_name': 'Лаваш', 'measure': 'шт', 'quantity': '2'},\n",
            "             {'ingredient_name': 'Винный уксус',\n",
            "              'measure': 'ст.л',\n",
            "              'quantity': '1'},\n",
            "             {'ingredient_name': 'Помидор', 'measure': 'шт', 'quantity': '2'}]}\n",
            "\n",
            "Для приготовления блюд на 2 человек(а)  нам необходимы следующие ингредиенты:\n",
            "{'Картофель': {'measure': 'кг', 'quantity': 2},\n",
            " 'Молоко': {'measure': 'мл', 'quantity': 200},\n",
            " 'Помидор': {'measure': 'шт', 'quantity': 4},\n",
            " 'Сыр гауда': {'measure': 'г', 'quantity': 200},\n",
            " 'Чеснок': {'measure': 'зубч', 'quantity': 6},\n",
            " 'Яйцо': {'measure': 'шт', 'quantity': 4}}\n"
          ]
        }
      ],
      "source": [
        "from pprint import pprint\n",
        "\n",
        "def dict_cook_book(file_pass):\n",
        "    with open(file_pass, 'r') as file:\n",
        "        menu = {}\n",
        "        for line in file:\n",
        "            dish_name = line[:-1]\n",
        "            counter = file.readline().strip()\n",
        "            list_of_ingridient = []\n",
        "            for i in range(int(counter)):\n",
        "                dish_items = dict.fromkeys(['ingredient_name', 'quantity', 'measure']) \n",
        "                ingridient = file.readline().strip().split(' | ')\n",
        "                for item in ingridient:\n",
        "                    dish_items['ingredient_name'] = ingridient[0]\n",
        "                    dish_items['quantity'] = ingridient[1]\n",
        "                    dish_items['measure'] = ingridient[2]\n",
        "                list_of_ingridient.append(dish_items)\n",
        "                cook_book = {dish_name: list_of_ingridient}\n",
        "                menu.update(cook_book)\n",
        "            file.readline()\n",
        "\n",
        "    return(menu)\n",
        "\n",
        "dict_cook_book('cook_book.txt')\n",
        "\n",
        "def get_shop_list_by_dishes(dishes, persons=int):\n",
        "    menu = dict_cook_book('cook_book.txt')\n",
        "    print('Наше меню: ')\n",
        "    pprint(menu)\n",
        "    print()\n",
        "    shopping_list = {}\n",
        "    try:\n",
        "        for dish in dishes:\n",
        "            for item in (menu[dish]):\n",
        "                items_list = dict([(item['ingredient_name'], {'measure': item['measure'], 'quantity': int(item['quantity'])*persons})])\n",
        "                if shopping_list.get(item['ingredient_name']):\n",
        "                    extra_item = (int(shopping_list[item['ingredient_name']]['quantity']) +\n",
        "                                  int(items_list[item['ingredient_name']]['quantity']))\n",
        "                    shopping_list[item['ingredient_name']]['quantity'] = extra_item\n",
        "                else:\n",
        "                   shopping_list.update(items_list)\n",
        "\n",
        "        print(f\"Для приготовления блюд на {persons} человек(а)  нам необходимы следующие ингредиенты:\")\n",
        "        pprint(shopping_list)\n",
        "    except KeyError:\n",
        "        print(\"Вы ошиблись в названии блюда, проверьте ввод\")\n",
        "\n",
        "\n",
        "get_shop_list_by_dishes(['Запеченный картофель', 'Омлет'], 2)"
      ]
    }
  ]
}