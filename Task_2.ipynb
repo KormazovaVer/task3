{
  "nbformat": 4,
  "nbformat_minor": 0,
  "metadata": {
    "colab": {
      "name": "Task_2.ipynb",
      "provenance": [],
      "authorship_tag": "ABX9TyOvOEHiJqGwHQwoQUqFW554",
      "include_colab_link": true
    },
    "kernelspec": {
      "name": "python3",
      "display_name": "Python 3"
    },
    "language_info": {
      "name": "python"
    }
  },
  "cells": [
    {
      "cell_type": "markdown",
      "metadata": {
        "id": "view-in-github",
        "colab_type": "text"
      },
      "source": [
        "<a href=\"https://colab.research.google.com/github/KormazovaVer/task3/blob/main/Task_2.ipynb\" target=\"_parent\"><img src=\"https://colab.research.google.com/assets/colab-badge.svg\" alt=\"Open In Colab\"/></a>"
      ]
    },
    {
      "cell_type": "code",
      "execution_count": null,
      "metadata": {
        "id": "nd6mNg_6z8h_"
      },
      "outputs": [],
      "source": [
        "from pprint import pprint\n",
        "import requests\n",
        "import json\n",
        "\n",
        "class YaUploader:\n",
        "    def __init__(self, token:str):\n",
        "        self.token = token\n",
        "        \n",
        "    def get_headers(self):\n",
        "        return {\n",
        "            'Content-Type': 'application/json',\n",
        "            'Authorization': 'OAuth {}'.format(self.token)\n",
        "        }\n",
        "    \n",
        "    def _get_upload_link(self, file_path:str):\n",
        "        upload_url = \"https://cloud-api.yandex.net:443/v1/disk/resources/upload\"\n",
        "        headers = self.get_headers()\n",
        "        params = {\"path\": file_path, \"owerwrite\": \"true\"}\n",
        "        response = requests.get(upload_url, headers=headers, params=params)\n",
        "        pprint(response.json())\n",
        "        pprint(headers)\n",
        "        return response.json()\n",
        "\n",
        "    def upload(self, file_path:str, file_name:str):\n",
        "        href = self._get_upload_link(file_path=file_path).get(\"href\", \"\")\n",
        "        response = requests.put(href, data=open(file_name, \"rb\"))\n",
        "        response.raise_for_status()\n",
        "        if response.status_code == 201:\n",
        "            print(\"Success\")\n",
        "\n",
        "\n",
        "\n",
        "if __name__ == '__main__':\n",
        "    path_to_file = \"New/test1.txt\"\n",
        "    file_name = \"test.txt\" \n",
        "    token = \"\"\n",
        "    uploader = YaUploader(token)\n",
        "    uploader.upload(path_to_file, file_name)\n"
      ]
    }
  ]
}