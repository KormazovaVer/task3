{
  "nbformat": 4,
  "nbformat_minor": 0,
  "metadata": {
    "colab": {
      "name": "Task_3.ipynb",
      "provenance": [],
      "authorship_tag": "ABX9TyMEf1xmAB4dD4dpXNJF8pru",
      "include_colab_link": true
    },
    "kernelspec": {
      "name": "python3",
      "display_name": "Python 3"
    },
    "language_info": {
      "name": "python"
    }
  },
  "cells": [
    {
      "cell_type": "markdown",
      "metadata": {
        "id": "view-in-github",
        "colab_type": "text"
      },
      "source": [
        "<a href=\"https://colab.research.google.com/github/KormazovaVer/task3/blob/main/Task_3.ipynb\" target=\"_parent\"><img src=\"https://colab.research.google.com/assets/colab-badge.svg\" alt=\"Open In Colab\"/></a>"
      ]
    },
    {
      "cell_type": "code",
      "source": [
        "\n",
        "from pprint import pprint\n",
        "import os\n",
        "def sorted_doc(i):\n",
        "   a = os.listdir()\n",
        "   dict = {}\n",
        "   for i in a:\n",
        "      if '.txt' in i:\n",
        "         with open(i, encoding='utf-8') as read_list:\n",
        "             dict[i] = read_list.readlines()\n",
        "def get_key(value):\n",
        "    for k, v in dict.items():\n",
        "        if v == value:\n",
        "            return k                           \n",
        "with open('sorted_file.txt', 'a', encoding='utf-8') as new_file:\n",
        "    sorted_list = sorted(dict.values(), key=lambda x: len(x), reverse=False)\n",
        "    for line in sorted_list:\n",
        "        new_file.write(get_key(line))\n",
        "        new_file.write('\\n')\n",
        "        new_file.write(str(len(line)))\n",
        "        new_file.write('\\n')\n",
        "        new_file.write(str(''.join(line)))\n",
        "        new_file.write('\\n')\n",
        "        \n",
        "    \n"
      ],
      "metadata": {
        "id": "xR1lkU4DgeK9"
      },
      "execution_count": 46,
      "outputs": []
    }
  ]
}