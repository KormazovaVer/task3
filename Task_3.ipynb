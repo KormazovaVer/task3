{
  "nbformat": 4,
  "nbformat_minor": 0,
  "metadata": {
    "colab": {
      "name": "Task_3.ipynb",
      "provenance": [],
      "authorship_tag": "ABX9TyOY1BZYOg5stg/fbhlKLK84",
      "include_colab_link": true
    },
    "kernelspec": {
      "name": "python3",
      "display_name": "Python 3"
    },
    "language_info": {
      "name": "python"
    }
  },
  "cells": [
    {
      "cell_type": "markdown",
      "metadata": {
        "id": "view-in-github",
        "colab_type": "text"
      },
      "source": [
        "<a href=\"https://colab.research.google.com/github/KormazovaVer/task3/blob/main/Task_3.ipynb\" target=\"_parent\"><img src=\"https://colab.research.google.com/assets/colab-badge.svg\" alt=\"Open In Colab\"/></a>"
      ]
    },
    {
      "cell_type": "code",
      "execution_count": 23,
      "metadata": {
        "colab": {
          "base_uri": "https://localhost:8080/",
          "height": 235
        },
        "id": "HzVcLgxZfNgU",
        "outputId": "0f9ff4d2-4545-467a-db6a-ebebcb7a782e"
      },
      "outputs": [
        {
          "output_type": "error",
          "ename": "FileNotFoundError",
          "evalue": "ignored",
          "traceback": [
            "\u001b[0;31m---------------------------------------------------------------------------\u001b[0m",
            "\u001b[0;31mFileNotFoundError\u001b[0m                         Traceback (most recent call last)",
            "\u001b[0;32m<ipython-input-23-12c37b64a80a>\u001b[0m in \u001b[0;36m<module>\u001b[0;34m()\u001b[0m\n\u001b[1;32m      3\u001b[0m \u001b[0ma\u001b[0m \u001b[0;34m=\u001b[0m \u001b[0mos\u001b[0m\u001b[0;34m.\u001b[0m\u001b[0mpath\u001b[0m\u001b[0;34m.\u001b[0m\u001b[0mjoin\u001b[0m\u001b[0;34m(\u001b[0m\u001b[0mos\u001b[0m\u001b[0;34m.\u001b[0m\u001b[0mgetcwd\u001b[0m\u001b[0;34m(\u001b[0m\u001b[0;34m)\u001b[0m\u001b[0;34m,\u001b[0m \u001b[0;34m'text'\u001b[0m\u001b[0;34m)\u001b[0m\u001b[0;34m\u001b[0m\u001b[0;34m\u001b[0m\u001b[0m\n\u001b[1;32m      4\u001b[0m \u001b[0mdict\u001b[0m \u001b[0;34m=\u001b[0m \u001b[0;34m{\u001b[0m\u001b[0;34m}\u001b[0m\u001b[0;34m\u001b[0m\u001b[0;34m\u001b[0m\u001b[0m\n\u001b[0;32m----> 5\u001b[0;31m \u001b[0;32mfor\u001b[0m \u001b[0mi\u001b[0m \u001b[0;32min\u001b[0m \u001b[0mos\u001b[0m\u001b[0;34m.\u001b[0m\u001b[0mlistdir\u001b[0m\u001b[0;34m(\u001b[0m\u001b[0ma\u001b[0m\u001b[0;34m)\u001b[0m\u001b[0;34m:\u001b[0m\u001b[0;34m\u001b[0m\u001b[0;34m\u001b[0m\u001b[0m\n\u001b[0m\u001b[1;32m      6\u001b[0m     \u001b[0;32mwith\u001b[0m \u001b[0mopen\u001b[0m\u001b[0;34m(\u001b[0m\u001b[0mos\u001b[0m\u001b[0;34m.\u001b[0m\u001b[0mpath\u001b[0m\u001b[0;34m.\u001b[0m\u001b[0mjoin\u001b[0m\u001b[0;34m(\u001b[0m\u001b[0mos\u001b[0m\u001b[0;34m.\u001b[0m\u001b[0mgetcwd\u001b[0m\u001b[0;34m(\u001b[0m\u001b[0;34m)\u001b[0m\u001b[0;34m,\u001b[0m \u001b[0;34m'text'\u001b[0m\u001b[0;34m,\u001b[0m \u001b[0mi\u001b[0m\u001b[0;34m)\u001b[0m\u001b[0;34m)\u001b[0m \u001b[0;32mas\u001b[0m \u001b[0mread_list\u001b[0m\u001b[0;34m:\u001b[0m\u001b[0;34m\u001b[0m\u001b[0;34m\u001b[0m\u001b[0m\n\u001b[1;32m      7\u001b[0m         \u001b[0mdict\u001b[0m\u001b[0;34m[\u001b[0m\u001b[0mi\u001b[0m\u001b[0;34m]\u001b[0m \u001b[0;34m=\u001b[0m \u001b[0mread_list\u001b[0m\u001b[0;34m.\u001b[0m\u001b[0mreadlines\u001b[0m\u001b[0;34m(\u001b[0m\u001b[0;34m)\u001b[0m\u001b[0;34m\u001b[0m\u001b[0;34m\u001b[0m\u001b[0m\n",
            "\u001b[0;31mFileNotFoundError\u001b[0m: [Errno 2] No such file or directory: '/content/text'"
          ]
        }
      ],
      "source": [
        "import os\n",
        "\n",
        "a = os.path.join(os.getcwd(), 'text')\n",
        "dict = {}\n",
        "for i in os.listdir(a):\n",
        "    with open(os.path.join(os.getcwd(), 'text', i)) as read_list:\n",
        "        dict[i] = read_list.readlines()\n",
        "\n",
        "\n",
        "def get_key(key, value):\n",
        "    for k, v in key.items():\n",
        "        if v == value:\n",
        "            return k\n",
        "\n",
        "\n",
        "sort_list = sorted(dict.values(), reverse=True)\n",
        "with open('sorted_text.txt', 'a', encoding='utf-8') as c:\n",
        "    counter = 0\n",
        "    for i in sort_list:\n",
        "        c.write(str(get_key(dict, i)))\n",
        "        c.write('\\n')\n",
        "        c.write(str(len(sort_list[counter])))\n",
        "        c.write('\\n')\n",
        "        c.write(str('\\n'.join(dict[get_key(dict, i)])))\n",
        "        counter += 1"
      ]
    },
    {
      "cell_type": "code",
      "source": [
        "\n",
        "from pprint import pprint\n",
        "import os\n",
        "def sorted_doc(i):\n",
        "   a = os.listdir()\n",
        "   dict = {}\n",
        "   for i in a:\n",
        "      if '.txt' in i:\n",
        "         with open(i, encoding='utf-8') as read_list:\n",
        "             dict[i] = read_list.readlines()           \n",
        "with open('sorted_file.txt', 'a', encoding='utf-8') as new_file:\n",
        "    sorted_list = sorted(dict.values(), key=lambda x: len(x), reverse=False)\n",
        "    for line in sorted_list:\n",
        "        new_file.write(get_key(line))\n",
        "        new_file.write('\\n')\n",
        "        new_file.write(str(len(line)))\n",
        "        new_file.write('\\n')\n",
        "        new_file.write(str(''.join(line)))\n",
        "        new_file.write('\\n')\n",
        "        \n",
        "    \n"
      ],
      "metadata": {
        "id": "xR1lkU4DgeK9"
      },
      "execution_count": 39,
      "outputs": []
    }
  ]
}